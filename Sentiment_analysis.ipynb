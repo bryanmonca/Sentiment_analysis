{
 "cells": [
  {
   "cell_type": "markdown",
   "metadata": {},
   "source": [
    "# Sentiment Analysis on IMDB Data"
   ]
  },
  {
   "cell_type": "markdown",
   "metadata": {},
   "source": [
    "In this project we will do Sentiment Analysis of movie reviews, using the [imbd dataset](https://ai.stanford.edu/~amaas/data/sentiment/) (or the .csv version from [kaggle](https://www.kaggle.com/lakshmi25npathi/imdb-dataset-of-50k-movie-reviews)). We will classify each review as either positive or negative."
   ]
  },
  {
   "cell_type": "code",
   "execution_count": 2,
   "metadata": {},
   "outputs": [],
   "source": [
    "# Import libraries needed\n",
    "from sklearn.model_selection import train_test_split\n",
    "from sklearn.linear_model import SGDClassifier\n",
    "from sklearn.metrics import confusion_matrix, classification_report, plot_confusion_matrix, accuracy_score\n",
    "from sklearn.feature_extraction.text import CountVectorizer, TfidfTransformer\n",
    "import numpy as np\n",
    "import pandas as pd\n",
    "import matplotlib.pyplot as plt"
   ]
  },
  {
   "cell_type": "markdown",
   "metadata": {},
   "source": [
    "First, we will examine the data:"
   ]
  },
  {
   "cell_type": "markdown",
   "metadata": {},
   "source": [
    "### Data Pre-processing"
   ]
  },
  {
   "cell_type": "code",
   "execution_count": 3,
   "metadata": {
    "scrolled": false
   },
   "outputs": [
    {
     "name": "stdout",
     "output_type": "stream",
     "text": [
      "(50000, 2)\n"
     ]
    }
   ],
   "source": [
    "imdb_data=pd.read_csv('IMDB Dataset.csv')\n",
    "print(imdb_data.shape)"
   ]
  },
  {
   "cell_type": "code",
   "execution_count": 4,
   "metadata": {
    "scrolled": false
   },
   "outputs": [
    {
     "data": {
      "text/html": [
       "<div>\n",
       "<style scoped>\n",
       "    .dataframe tbody tr th:only-of-type {\n",
       "        vertical-align: middle;\n",
       "    }\n",
       "\n",
       "    .dataframe tbody tr th {\n",
       "        vertical-align: top;\n",
       "    }\n",
       "\n",
       "    .dataframe thead th {\n",
       "        text-align: right;\n",
       "    }\n",
       "</style>\n",
       "<table border=\"1\" class=\"dataframe\">\n",
       "  <thead>\n",
       "    <tr style=\"text-align: right;\">\n",
       "      <th></th>\n",
       "      <th>review</th>\n",
       "      <th>sentiment</th>\n",
       "    </tr>\n",
       "  </thead>\n",
       "  <tbody>\n",
       "    <tr>\n",
       "      <th>0</th>\n",
       "      <td>One of the other reviewers has mentioned that ...</td>\n",
       "      <td>positive</td>\n",
       "    </tr>\n",
       "    <tr>\n",
       "      <th>1</th>\n",
       "      <td>A wonderful little production. &lt;br /&gt;&lt;br /&gt;The...</td>\n",
       "      <td>positive</td>\n",
       "    </tr>\n",
       "    <tr>\n",
       "      <th>2</th>\n",
       "      <td>I thought this was a wonderful way to spend ti...</td>\n",
       "      <td>positive</td>\n",
       "    </tr>\n",
       "    <tr>\n",
       "      <th>3</th>\n",
       "      <td>Basically there's a family where a little boy ...</td>\n",
       "      <td>negative</td>\n",
       "    </tr>\n",
       "    <tr>\n",
       "      <th>4</th>\n",
       "      <td>Petter Mattei's \"Love in the Time of Money\" is...</td>\n",
       "      <td>positive</td>\n",
       "    </tr>\n",
       "    <tr>\n",
       "      <th>...</th>\n",
       "      <td>...</td>\n",
       "      <td>...</td>\n",
       "    </tr>\n",
       "    <tr>\n",
       "      <th>49995</th>\n",
       "      <td>I thought this movie did a down right good job...</td>\n",
       "      <td>positive</td>\n",
       "    </tr>\n",
       "    <tr>\n",
       "      <th>49996</th>\n",
       "      <td>Bad plot, bad dialogue, bad acting, idiotic di...</td>\n",
       "      <td>negative</td>\n",
       "    </tr>\n",
       "    <tr>\n",
       "      <th>49997</th>\n",
       "      <td>I am a Catholic taught in parochial elementary...</td>\n",
       "      <td>negative</td>\n",
       "    </tr>\n",
       "    <tr>\n",
       "      <th>49998</th>\n",
       "      <td>I'm going to have to disagree with the previou...</td>\n",
       "      <td>negative</td>\n",
       "    </tr>\n",
       "    <tr>\n",
       "      <th>49999</th>\n",
       "      <td>No one expects the Star Trek movies to be high...</td>\n",
       "      <td>negative</td>\n",
       "    </tr>\n",
       "  </tbody>\n",
       "</table>\n",
       "<p>50000 rows × 2 columns</p>\n",
       "</div>"
      ],
      "text/plain": [
       "                                                  review sentiment\n",
       "0      One of the other reviewers has mentioned that ...  positive\n",
       "1      A wonderful little production. <br /><br />The...  positive\n",
       "2      I thought this was a wonderful way to spend ti...  positive\n",
       "3      Basically there's a family where a little boy ...  negative\n",
       "4      Petter Mattei's \"Love in the Time of Money\" is...  positive\n",
       "...                                                  ...       ...\n",
       "49995  I thought this movie did a down right good job...  positive\n",
       "49996  Bad plot, bad dialogue, bad acting, idiotic di...  negative\n",
       "49997  I am a Catholic taught in parochial elementary...  negative\n",
       "49998  I'm going to have to disagree with the previou...  negative\n",
       "49999  No one expects the Star Trek movies to be high...  negative\n",
       "\n",
       "[50000 rows x 2 columns]"
      ]
     },
     "execution_count": 4,
     "metadata": {},
     "output_type": "execute_result"
    }
   ],
   "source": [
    "imdb_data"
   ]
  },
  {
   "cell_type": "code",
   "execution_count": 5,
   "metadata": {
    "scrolled": false
   },
   "outputs": [
    {
     "data": {
      "text/html": [
       "<div>\n",
       "<style scoped>\n",
       "    .dataframe tbody tr th:only-of-type {\n",
       "        vertical-align: middle;\n",
       "    }\n",
       "\n",
       "    .dataframe tbody tr th {\n",
       "        vertical-align: top;\n",
       "    }\n",
       "\n",
       "    .dataframe thead th {\n",
       "        text-align: right;\n",
       "    }\n",
       "</style>\n",
       "<table border=\"1\" class=\"dataframe\">\n",
       "  <thead>\n",
       "    <tr style=\"text-align: right;\">\n",
       "      <th></th>\n",
       "      <th>review</th>\n",
       "      <th>sentiment</th>\n",
       "    </tr>\n",
       "  </thead>\n",
       "  <tbody>\n",
       "    <tr>\n",
       "      <th>0</th>\n",
       "      <td>One of the other reviewers has mentioned that ...</td>\n",
       "      <td>positive</td>\n",
       "    </tr>\n",
       "    <tr>\n",
       "      <th>1</th>\n",
       "      <td>A wonderful little production. &lt;br /&gt;&lt;br /&gt;The...</td>\n",
       "      <td>positive</td>\n",
       "    </tr>\n",
       "    <tr>\n",
       "      <th>2</th>\n",
       "      <td>I thought this was a wonderful way to spend ti...</td>\n",
       "      <td>positive</td>\n",
       "    </tr>\n",
       "    <tr>\n",
       "      <th>3</th>\n",
       "      <td>Basically there's a family where a little boy ...</td>\n",
       "      <td>negative</td>\n",
       "    </tr>\n",
       "    <tr>\n",
       "      <th>4</th>\n",
       "      <td>Petter Mattei's \"Love in the Time of Money\" is...</td>\n",
       "      <td>positive</td>\n",
       "    </tr>\n",
       "    <tr>\n",
       "      <th>5</th>\n",
       "      <td>Probably my all-time favorite movie, a story o...</td>\n",
       "      <td>positive</td>\n",
       "    </tr>\n",
       "    <tr>\n",
       "      <th>6</th>\n",
       "      <td>I sure would like to see a resurrection of a u...</td>\n",
       "      <td>positive</td>\n",
       "    </tr>\n",
       "    <tr>\n",
       "      <th>7</th>\n",
       "      <td>This show was an amazing, fresh &amp; innovative i...</td>\n",
       "      <td>negative</td>\n",
       "    </tr>\n",
       "    <tr>\n",
       "      <th>8</th>\n",
       "      <td>Encouraged by the positive comments about this...</td>\n",
       "      <td>negative</td>\n",
       "    </tr>\n",
       "    <tr>\n",
       "      <th>9</th>\n",
       "      <td>If you like original gut wrenching laughter yo...</td>\n",
       "      <td>positive</td>\n",
       "    </tr>\n",
       "  </tbody>\n",
       "</table>\n",
       "</div>"
      ],
      "text/plain": [
       "                                              review sentiment\n",
       "0  One of the other reviewers has mentioned that ...  positive\n",
       "1  A wonderful little production. <br /><br />The...  positive\n",
       "2  I thought this was a wonderful way to spend ti...  positive\n",
       "3  Basically there's a family where a little boy ...  negative\n",
       "4  Petter Mattei's \"Love in the Time of Money\" is...  positive\n",
       "5  Probably my all-time favorite movie, a story o...  positive\n",
       "6  I sure would like to see a resurrection of a u...  positive\n",
       "7  This show was an amazing, fresh & innovative i...  negative\n",
       "8  Encouraged by the positive comments about this...  negative\n",
       "9  If you like original gut wrenching laughter yo...  positive"
      ]
     },
     "execution_count": 5,
     "metadata": {},
     "output_type": "execute_result"
    }
   ],
   "source": [
    "imdb_data.head(10)"
   ]
  },
  {
   "cell_type": "code",
   "execution_count": 6,
   "metadata": {},
   "outputs": [
    {
     "name": "stdout",
     "output_type": "stream",
     "text": [
      "<class 'pandas.core.frame.DataFrame'>\n",
      "RangeIndex: 50000 entries, 0 to 49999\n",
      "Data columns (total 2 columns):\n",
      " #   Column     Non-Null Count  Dtype \n",
      "---  ------     --------------  ----- \n",
      " 0   review     50000 non-null  object\n",
      " 1   sentiment  50000 non-null  object\n",
      "dtypes: object(2)\n",
      "memory usage: 781.4+ KB\n"
     ]
    }
   ],
   "source": [
    "imdb_data.info()"
   ]
  },
  {
   "cell_type": "code",
   "execution_count": 7,
   "metadata": {},
   "outputs": [
    {
     "data": {
      "text/html": [
       "<div>\n",
       "<style scoped>\n",
       "    .dataframe tbody tr th:only-of-type {\n",
       "        vertical-align: middle;\n",
       "    }\n",
       "\n",
       "    .dataframe tbody tr th {\n",
       "        vertical-align: top;\n",
       "    }\n",
       "\n",
       "    .dataframe thead th {\n",
       "        text-align: right;\n",
       "    }\n",
       "</style>\n",
       "<table border=\"1\" class=\"dataframe\">\n",
       "  <thead>\n",
       "    <tr style=\"text-align: right;\">\n",
       "      <th></th>\n",
       "      <th>review</th>\n",
       "      <th>sentiment</th>\n",
       "    </tr>\n",
       "  </thead>\n",
       "  <tbody>\n",
       "    <tr>\n",
       "      <th>count</th>\n",
       "      <td>50000</td>\n",
       "      <td>50000</td>\n",
       "    </tr>\n",
       "    <tr>\n",
       "      <th>unique</th>\n",
       "      <td>49582</td>\n",
       "      <td>2</td>\n",
       "    </tr>\n",
       "    <tr>\n",
       "      <th>top</th>\n",
       "      <td>Loved today's show!!! It was a variety and not...</td>\n",
       "      <td>positive</td>\n",
       "    </tr>\n",
       "    <tr>\n",
       "      <th>freq</th>\n",
       "      <td>5</td>\n",
       "      <td>25000</td>\n",
       "    </tr>\n",
       "  </tbody>\n",
       "</table>\n",
       "</div>"
      ],
      "text/plain": [
       "                                                   review sentiment\n",
       "count                                               50000     50000\n",
       "unique                                              49582         2\n",
       "top     Loved today's show!!! It was a variety and not...  positive\n",
       "freq                                                    5     25000"
      ]
     },
     "execution_count": 7,
     "metadata": {},
     "output_type": "execute_result"
    }
   ],
   "source": [
    "imdb_data.describe()"
   ]
  },
  {
   "cell_type": "markdown",
   "metadata": {},
   "source": [
    "Our data is comprised by the reviews and the sentiment. There is no missing values. Also, both variables are strings. Each sentiment can be either positive or negative. Now, let's see what is the distribution of the sentiments:"
   ]
  },
  {
   "cell_type": "code",
   "execution_count": 8,
   "metadata": {},
   "outputs": [
    {
     "data": {
      "text/plain": [
       "positive    25000\n",
       "negative    25000\n",
       "Name: sentiment, dtype: int64"
      ]
     },
     "execution_count": 8,
     "metadata": {},
     "output_type": "execute_result"
    }
   ],
   "source": [
    "imdb_data['sentiment'].value_counts()"
   ]
  },
  {
   "cell_type": "code",
   "execution_count": 9,
   "metadata": {},
   "outputs": [
    {
     "data": {
      "image/png": "[encoded data removed]",
      "text/plain": [
       "<Figure size 432x288 with 1 Axes>"
      ]
     },
     "metadata": {
      "needs_background": "light"
     },
     "output_type": "display_data"
    }
   ],
   "source": [
    "imdb_data['sentiment'].value_counts().plot.bar()\n",
    "plt.ylabel(\"Count\")\n",
    "plt.xlabel(\"Sentiment\")\n",
    "plt.show()"
   ]
  },
  {
   "cell_type": "markdown",
   "metadata": {},
   "source": [
    "Each sentiment is distributed equally, the dataset is balanced."
   ]
  },
  {
   "cell_type": "markdown",
   "metadata": {},
   "source": [
    "In order to train a classifier, we need to convert text to string format. First, we will do it with the labels. Positive values will be represent as 1 and negative as 0."
   ]
  },
  {
   "cell_type": "code",
   "execution_count": 10,
   "metadata": {},
   "outputs": [],
   "source": [
    "imdb_data['sentiment'] = imdb_data.sentiment.astype('category')\n",
    "mapping = {'positive': 1, 'negative': 0}\n",
    "imdb_data.sentiment.replace(mapping, inplace=True)"
   ]
  },
  {
   "cell_type": "code",
   "execution_count": 11,
   "metadata": {},
   "outputs": [
    {
     "data": {
      "text/html": [
       "<div>\n",
       "<style scoped>\n",
       "    .dataframe tbody tr th:only-of-type {\n",
       "        vertical-align: middle;\n",
       "    }\n",
       "\n",
       "    .dataframe tbody tr th {\n",
       "        vertical-align: top;\n",
       "    }\n",
       "\n",
       "    .dataframe thead th {\n",
       "        text-align: right;\n",
       "    }\n",
       "</style>\n",
       "<table border=\"1\" class=\"dataframe\">\n",
       "  <thead>\n",
       "    <tr style=\"text-align: right;\">\n",
       "      <th></th>\n",
       "      <th>review</th>\n",
       "      <th>sentiment</th>\n",
       "    </tr>\n",
       "  </thead>\n",
       "  <tbody>\n",
       "    <tr>\n",
       "      <th>0</th>\n",
       "      <td>One of the other reviewers has mentioned that ...</td>\n",
       "      <td>1</td>\n",
       "    </tr>\n",
       "    <tr>\n",
       "      <th>1</th>\n",
       "      <td>A wonderful little production. &lt;br /&gt;&lt;br /&gt;The...</td>\n",
       "      <td>1</td>\n",
       "    </tr>\n",
       "    <tr>\n",
       "      <th>2</th>\n",
       "      <td>I thought this was a wonderful way to spend ti...</td>\n",
       "      <td>1</td>\n",
       "    </tr>\n",
       "    <tr>\n",
       "      <th>3</th>\n",
       "      <td>Basically there's a family where a little boy ...</td>\n",
       "      <td>0</td>\n",
       "    </tr>\n",
       "    <tr>\n",
       "      <th>4</th>\n",
       "      <td>Petter Mattei's \"Love in the Time of Money\" is...</td>\n",
       "      <td>1</td>\n",
       "    </tr>\n",
       "    <tr>\n",
       "      <th>...</th>\n",
       "      <td>...</td>\n",
       "      <td>...</td>\n",
       "    </tr>\n",
       "    <tr>\n",
       "      <th>49995</th>\n",
       "      <td>I thought this movie did a down right good job...</td>\n",
       "      <td>1</td>\n",
       "    </tr>\n",
       "    <tr>\n",
       "      <th>49996</th>\n",
       "      <td>Bad plot, bad dialogue, bad acting, idiotic di...</td>\n",
       "      <td>0</td>\n",
       "    </tr>\n",
       "    <tr>\n",
       "      <th>49997</th>\n",
       "      <td>I am a Catholic taught in parochial elementary...</td>\n",
       "      <td>0</td>\n",
       "    </tr>\n",
       "    <tr>\n",
       "      <th>49998</th>\n",
       "      <td>I'm going to have to disagree with the previou...</td>\n",
       "      <td>0</td>\n",
       "    </tr>\n",
       "    <tr>\n",
       "      <th>49999</th>\n",
       "      <td>No one expects the Star Trek movies to be high...</td>\n",
       "      <td>0</td>\n",
       "    </tr>\n",
       "  </tbody>\n",
       "</table>\n",
       "<p>50000 rows × 2 columns</p>\n",
       "</div>"
      ],
      "text/plain": [
       "                                                  review  sentiment\n",
       "0      One of the other reviewers has mentioned that ...          1\n",
       "1      A wonderful little production. <br /><br />The...          1\n",
       "2      I thought this was a wonderful way to spend ti...          1\n",
       "3      Basically there's a family where a little boy ...          0\n",
       "4      Petter Mattei's \"Love in the Time of Money\" is...          1\n",
       "...                                                  ...        ...\n",
       "49995  I thought this movie did a down right good job...          1\n",
       "49996  Bad plot, bad dialogue, bad acting, idiotic di...          0\n",
       "49997  I am a Catholic taught in parochial elementary...          0\n",
       "49998  I'm going to have to disagree with the previou...          0\n",
       "49999  No one expects the Star Trek movies to be high...          0\n",
       "\n",
       "[50000 rows x 2 columns]"
      ]
     },
     "execution_count": 11,
     "metadata": {},
     "output_type": "execute_result"
    }
   ],
   "source": [
    "imdb_data"
   ]
  },
  {
   "cell_type": "markdown",
   "metadata": {},
   "source": [
    "## Data Splitting"
   ]
  },
  {
   "cell_type": "markdown",
   "metadata": {},
   "source": [
    "The data has 50,000 reviews. We can split them in 80%-20%, 40,000 for training set and 10,000 for testing set. However, 40,000 is a lot of data, so we will work with 5,000 observation only and split them in the same way."
   ]
  },
  {
   "cell_type": "code",
   "execution_count": 12,
   "metadata": {},
   "outputs": [],
   "source": [
    "def data_split_80_20(data, total_obs=5000):\n",
    "    samples = np.random.choice(len(data), total_obs, replace=False)\n",
    "    train_samples = int(0.8 * total_obs)\n",
    "    new_data = data.iloc[samples]\n",
    "    train = new_data[:train_samples]\n",
    "    val = new_data[train_samples:]\n",
    "    return train.iloc[:, 0], val.iloc[:, 0], train.iloc[:, 1] , val.iloc[:, 1]\n",
    "    "
   ]
  },
  {
   "cell_type": "code",
   "execution_count": 13,
   "metadata": {
    "scrolled": false
   },
   "outputs": [
    {
     "name": "stdout",
     "output_type": "stream",
     "text": [
      "(4000,) (4000,)\n",
      "(1000,) (1000,)\n"
     ]
    }
   ],
   "source": [
    "x_train, x_val, y_train, y_val = data_split_80_20(imdb_data)\n",
    "print(x_train.shape, y_train.shape)\n",
    "print(x_val.shape, y_val.shape)"
   ]
  },
  {
   "cell_type": "markdown",
   "metadata": {},
   "source": [
    "## Vectorizer"
   ]
  },
  {
   "cell_type": "markdown",
   "metadata": {},
   "source": [
    "Now, we need to transform our reviews into numbers. The way we will do it is by the Bag-Of-Words method using sklearn's CountVectorizer. With text vectorization, each review is represented by a vector of the counts of words from a vocabulary in that document. We will limit features to 10,000."
   ]
  },
  {
   "cell_type": "code",
   "execution_count": 14,
   "metadata": {},
   "outputs": [],
   "source": [
    "cv = CountVectorizer(max_features=10000) # only unigrams\n",
    "cv_x_train = cv.fit_transform(x_train)\n",
    "cv_x_train = cv_x_train.toarray()"
   ]
  },
  {
   "cell_type": "code",
   "execution_count": 15,
   "metadata": {},
   "outputs": [
    {
     "data": {
      "text/plain": [
       "(4000, 10000)"
      ]
     },
     "execution_count": 15,
     "metadata": {},
     "output_type": "execute_result"
    }
   ],
   "source": [
    "cv_x_train.shape"
   ]
  },
  {
   "cell_type": "code",
   "execution_count": 16,
   "metadata": {},
   "outputs": [],
   "source": [
    "cv_x_val = cv.transform(x_val)\n",
    "cv_x_val = cv_x_val.toarray()"
   ]
  },
  {
   "cell_type": "markdown",
   "metadata": {},
   "source": [
    "## SGD Classifier"
   ]
  },
  {
   "cell_type": "markdown",
   "metadata": {},
   "source": [
    "Stochastic Gradient Descent (SGD) is an iterative optimization algorithm that approximates the gradient of the loss at each time. \n",
    "\n",
    "Sklearn's SGD Classifier implements regularized linear models with SGD learning. Two of the losses provided by it are 'hinge' that gives us a Support Vector Machine (SVM) algorithm and 'log' that gives us a Logistic Regression Algorithm."
   ]
  },
  {
   "cell_type": "code",
   "execution_count": 17,
   "metadata": {},
   "outputs": [
    {
     "data": {
      "text/plain": [
       "SGDClassifier(alpha=0.0001, average=False, class_weight=None,\n",
       "              early_stopping=False, epsilon=0.1, eta0=0.0, fit_intercept=True,\n",
       "              l1_ratio=0.15, learning_rate='optimal', loss='hinge',\n",
       "              max_iter=1000, n_iter_no_change=5, n_jobs=None, penalty='l2',\n",
       "              power_t=0.5, random_state=42, shuffle=True, tol=0.001,\n",
       "              validation_fraction=0.1, verbose=0, warm_start=False)"
      ]
     },
     "execution_count": 17,
     "metadata": {},
     "output_type": "execute_result"
    }
   ],
   "source": [
    "# Training Classifier (SVM)\n",
    "svm = SGDClassifier(loss='hinge', random_state=42)\n",
    "svm.fit(cv_x_train, y_train)"
   ]
  },
  {
   "cell_type": "code",
   "execution_count": 18,
   "metadata": {},
   "outputs": [
    {
     "name": "stdout",
     "output_type": "stream",
     "text": [
      "svm_accuracy : 0.83\n"
     ]
    }
   ],
   "source": [
    "svm_predictions = svm.predict(cv_x_val)\n",
    "svm_score = accuracy_score(y_val, svm_predictions)\n",
    "print(\"svm_accuracy :\", svm_score)"
   ]
  },
  {
   "cell_type": "code",
   "execution_count": 19,
   "metadata": {
    "scrolled": true
   },
   "outputs": [
    {
     "data": {
      "text/plain": [
       "SGDClassifier(alpha=0.0001, average=False, class_weight=None,\n",
       "              early_stopping=False, epsilon=0.1, eta0=0.0, fit_intercept=True,\n",
       "              l1_ratio=0.15, learning_rate='optimal', loss='log', max_iter=1000,\n",
       "              n_iter_no_change=5, n_jobs=None, penalty='l2', power_t=0.5,\n",
       "              random_state=42, shuffle=True, tol=0.001, validation_fraction=0.1,\n",
       "              verbose=0, warm_start=False)"
      ]
     },
     "execution_count": 19,
     "metadata": {},
     "output_type": "execute_result"
    }
   ],
   "source": [
    "# Training Classifier (logistic regression)\n",
    "log_reg = SGDClassifier(loss='log', random_state=42)\n",
    "log_reg.fit(cv_x_train, y_train)"
   ]
  },
  {
   "cell_type": "code",
   "execution_count": 20,
   "metadata": {},
   "outputs": [
    {
     "name": "stdout",
     "output_type": "stream",
     "text": [
      "log_reg_accuracy : 0.829\n"
     ]
    }
   ],
   "source": [
    "log_reg_predictions = log_reg.predict(cv_x_val)\n",
    "log_reg_score = accuracy_score(y_val, log_reg_predictions)\n",
    "print(\"log_reg_accuracy :\", log_reg_score)"
   ]
  },
  {
   "cell_type": "markdown",
   "metadata": {},
   "source": [
    "The accuracies we obtained using Support Vector Machine (SVM) and Logistic Regression with the Stochastic Gradient Descent (SGD) algorithm using 5,000 observations (4,000 for training, 1,000 for testing) are 0.83 for SVM and 0.829 for logistic regression. Our mission now is to get better results through experimentation:"
   ]
  },
  {
   "cell_type": "markdown",
   "metadata": {},
   "source": [
    "## Experiments"
   ]
  },
  {
   "cell_type": "markdown",
   "metadata": {},
   "source": [
    "5,000 observations did not take that long to run, let's try incrementing a little bit the data to see if we can get better results. In theory the more data the better, however, in practice more data means more complexity, the number of calculations increment and sometimes our machine cannot handle that. Of course, 40,000 might take the longest because it is the whole size of the data. To try to reduce computational complexity we will reduce the number of features our Vectorizer is going to use to 10,000."
   ]
  },
  {
   "cell_type": "code",
   "execution_count": 21,
   "metadata": {},
   "outputs": [],
   "source": [
    "def summary_report(classifier, x_val, y_val, predictions):\n",
    "    print(\"Confusion Matrix:\")\n",
    "    print(confusion_matrix(y_val, predictions))\n",
    "    \n",
    "    plot_confusion_matrix(classifier, x_val, y_val)\n",
    "    plt.show()\n",
    "    \n",
    "    print(\"\\nClassification Report:\")\n",
    "    print(classification_report(y_val, predictions, target_names=['negative', 'positive']))"
   ]
  },
  {
   "cell_type": "code",
   "execution_count": 23,
   "metadata": {
    "scrolled": false
   },
   "outputs": [
    {
     "name": "stdout",
     "output_type": "stream",
     "text": [
      "svm accuracy with 5000 observations: 0.8230\n",
      "Confusion Matrix:\n",
      "[[379 128]\n",
      " [ 49 444]]\n"
     ]
    },
    {
     "data": {
      "image/png": "[encoded data removed]",
      "text/plain": [
       "<Figure size 432x288 with 2 Axes>"
      ]
     },
     "metadata": {
      "needs_background": "light"
     },
     "output_type": "display_data"
    },
    {
     "name": "stdout",
     "output_type": "stream",
     "text": [
      "\n",
      "Classification Report:\n",
      "              precision    recall  f1-score   support\n",
      "\n",
      "    negative       0.89      0.75      0.81       507\n",
      "    positive       0.78      0.90      0.83       493\n",
      "\n",
      "    accuracy                           0.82      1000\n",
      "   macro avg       0.83      0.82      0.82      1000\n",
      "weighted avg       0.83      0.82      0.82      1000\n",
      "\n",
      "logistc regression accuracy with 5000 observations: 0.8390\n",
      "Confusion Matrix:\n",
      "[[429  78]\n",
      " [ 83 410]]\n"
     ]
    },
    {
     "data": {
      "image/png": "[encoded data removed]",
      "text/plain": [
       "<Figure size 432x288 with 2 Axes>"
      ]
     },
     "metadata": {
      "needs_background": "light"
     },
     "output_type": "display_data"
    },
    {
     "name": "stdout",
     "output_type": "stream",
     "text": [
      "\n",
      "Classification Report:\n",
      "              precision    recall  f1-score   support\n",
      "\n",
      "    negative       0.84      0.85      0.84       507\n",
      "    positive       0.84      0.83      0.84       493\n",
      "\n",
      "    accuracy                           0.84      1000\n",
      "   macro avg       0.84      0.84      0.84      1000\n",
      "weighted avg       0.84      0.84      0.84      1000\n",
      "\n",
      "svm accuracy with 10000 observations: 0.8340\n",
      "Confusion Matrix:\n",
      "[[894 116]\n",
      " [216 774]]\n"
     ]
    },
    {
     "data": {
      "image/png": "[encoded data removed]",
      "text/plain": [
       "<Figure size 432x288 with 2 Axes>"
      ]
     },
     "metadata": {
      "needs_background": "light"
     },
     "output_type": "display_data"
    },
    {
     "name": "stdout",
     "output_type": "stream",
     "text": [
      "\n",
      "Classification Report:\n",
      "              precision    recall  f1-score   support\n",
      "\n",
      "    negative       0.81      0.89      0.84      1010\n",
      "    positive       0.87      0.78      0.82       990\n",
      "\n",
      "    accuracy                           0.83      2000\n",
      "   macro avg       0.84      0.83      0.83      2000\n",
      "weighted avg       0.84      0.83      0.83      2000\n",
      "\n",
      "logistc regression accuracy with 10000 observations: 0.8530\n",
      "Confusion Matrix:\n",
      "[[859 151]\n",
      " [143 847]]\n"
     ]
    },
    {
     "data": {
      "image/png": "[encoded data removed]",
      "text/plain": [
       "<Figure size 432x288 with 2 Axes>"
      ]
     },
     "metadata": {
      "needs_background": "light"
     },
     "output_type": "display_data"
    },
    {
     "name": "stdout",
     "output_type": "stream",
     "text": [
      "\n",
      "Classification Report:\n",
      "              precision    recall  f1-score   support\n",
      "\n",
      "    negative       0.86      0.85      0.85      1010\n",
      "    positive       0.85      0.86      0.85       990\n",
      "\n",
      "    accuracy                           0.85      2000\n",
      "   macro avg       0.85      0.85      0.85      2000\n",
      "weighted avg       0.85      0.85      0.85      2000\n",
      "\n",
      "svm accuracy with 15000 observations: 0.8437\n",
      "Confusion Matrix:\n",
      "[[1136  349]\n",
      " [ 120 1395]]\n"
     ]
    },
    {
     "data": {
      "image/png": "[encoded data removed]",
      "text/plain": [
       "<Figure size 432x288 with 2 Axes>"
      ]
     },
     "metadata": {
      "needs_background": "light"
     },
     "output_type": "display_data"
    },
    {
     "name": "stdout",
     "output_type": "stream",
     "text": [
      "\n",
      "Classification Report:\n",
      "              precision    recall  f1-score   support\n",
      "\n",
      "    negative       0.90      0.76      0.83      1485\n",
      "    positive       0.80      0.92      0.86      1515\n",
      "\n",
      "    accuracy                           0.84      3000\n",
      "   macro avg       0.85      0.84      0.84      3000\n",
      "weighted avg       0.85      0.84      0.84      3000\n",
      "\n",
      "logistc regression accuracy with 15000 observations: 0.8630\n",
      "Confusion Matrix:\n",
      "[[1287  198]\n",
      " [ 213 1302]]\n"
     ]
    },
    {
     "data": {
      "image/png": "[encoded data removed]",
      "text/plain": [
       "<Figure size 432x288 with 2 Axes>"
      ]
     },
     "metadata": {
      "needs_background": "light"
     },
     "output_type": "display_data"
    },
    {
     "name": "stdout",
     "output_type": "stream",
     "text": [
      "\n",
      "Classification Report:\n",
      "              precision    recall  f1-score   support\n",
      "\n",
      "    negative       0.86      0.87      0.86      1485\n",
      "    positive       0.87      0.86      0.86      1515\n",
      "\n",
      "    accuracy                           0.86      3000\n",
      "   macro avg       0.86      0.86      0.86      3000\n",
      "weighted avg       0.86      0.86      0.86      3000\n",
      "\n",
      "svm accuracy with 20000 observations: 0.8728\n",
      "Confusion Matrix:\n",
      "[[1758  246]\n",
      " [ 263 1733]]\n"
     ]
    },
    {
     "data": {
      "image/png": "[encoded data removed]",
      "text/plain": [
       "<Figure size 432x288 with 2 Axes>"
      ]
     },
     "metadata": {
      "needs_background": "light"
     },
     "output_type": "display_data"
    },
    {
     "name": "stdout",
     "output_type": "stream",
     "text": [
      "\n",
      "Classification Report:\n",
      "              precision    recall  f1-score   support\n",
      "\n",
      "    negative       0.87      0.88      0.87      2004\n",
      "    positive       0.88      0.87      0.87      1996\n",
      "\n",
      "    accuracy                           0.87      4000\n",
      "   macro avg       0.87      0.87      0.87      4000\n",
      "weighted avg       0.87      0.87      0.87      4000\n",
      "\n",
      "logistc regression accuracy with 20000 observations: 0.8720\n",
      "Confusion Matrix:\n",
      "[[1657  347]\n",
      " [ 165 1831]]\n"
     ]
    },
    {
     "data": {
      "image/png": "[encoded data removed]",
      "text/plain": [
       "<Figure size 432x288 with 2 Axes>"
      ]
     },
     "metadata": {
      "needs_background": "light"
     },
     "output_type": "display_data"
    },
    {
     "name": "stdout",
     "output_type": "stream",
     "text": [
      "\n",
      "Classification Report:\n",
      "              precision    recall  f1-score   support\n",
      "\n",
      "    negative       0.91      0.83      0.87      2004\n",
      "    positive       0.84      0.92      0.88      1996\n",
      "\n",
      "    accuracy                           0.87      4000\n",
      "   macro avg       0.88      0.87      0.87      4000\n",
      "weighted avg       0.88      0.87      0.87      4000\n",
      "\n",
      "svm accuracy with 40000 observations: 0.8765\n",
      "Confusion Matrix:\n",
      "[[3455  601]\n",
      " [ 387 3557]]\n"
     ]
    },
    {
     "data": {
      "image/png": "[encoded data removed]",
      "text/plain": [
       "<Figure size 432x288 with 2 Axes>"
      ]
     },
     "metadata": {
      "needs_background": "light"
     },
     "output_type": "display_data"
    },
    {
     "name": "stdout",
     "output_type": "stream",
     "text": [
      "\n",
      "Classification Report:\n",
      "              precision    recall  f1-score   support\n",
      "\n",
      "    negative       0.90      0.85      0.87      4056\n",
      "    positive       0.86      0.90      0.88      3944\n",
      "\n",
      "    accuracy                           0.88      8000\n",
      "   macro avg       0.88      0.88      0.88      8000\n",
      "weighted avg       0.88      0.88      0.88      8000\n",
      "\n",
      "logistc regression accuracy with 40000 observations: 0.8775\n",
      "Confusion Matrix:\n",
      "[[3609  447]\n",
      " [ 533 3411]]\n"
     ]
    },
    {
     "data": {
      "image/png": "[encoded data removed]",
      "text/plain": [
       "<Figure size 432x288 with 2 Axes>"
      ]
     },
     "metadata": {
      "needs_background": "light"
     },
     "output_type": "display_data"
    },
    {
     "name": "stdout",
     "output_type": "stream",
     "text": [
      "\n",
      "Classification Report:\n",
      "              precision    recall  f1-score   support\n",
      "\n",
      "    negative       0.87      0.89      0.88      4056\n",
      "    positive       0.88      0.86      0.87      3944\n",
      "\n",
      "    accuracy                           0.88      8000\n",
      "   macro avg       0.88      0.88      0.88      8000\n",
      "weighted avg       0.88      0.88      0.88      8000\n",
      "\n"
     ]
    }
   ],
   "source": [
    "num_obs = [5000, 10000, 15000, 20000, 40000]\n",
    "svm_acc = []\n",
    "log_reg_acc = []\n",
    "\n",
    "for i in num_obs:\n",
    "    x_train, x_val, y_train, y_val = data_split_80_20(imdb_data, i)\n",
    "    cv = CountVectorizer(max_features=10000) # only unigrams\n",
    "    cv_x_train = cv.fit_transform(x_train)\n",
    "    cv_x_train = cv_x_train.toarray()\n",
    "    cv_x_val = cv.transform(x_val)\n",
    "    cv_x_val = cv_x_val.toarray()\n",
    "    \n",
    "    # Training Classifier (SVM)\n",
    "    svm = SGDClassifier(loss='hinge', random_state=42)\n",
    "    svm.fit(cv_x_train, y_train)\n",
    "    \n",
    "    svm_predictions = svm.predict(cv_x_val)\n",
    "    svm_score = accuracy_score(y_val, svm_predictions)\n",
    "    svm_acc.append(svm_score)\n",
    "    print(\"svm accuracy with {} observations: {:.4f}\".format(i, svm_score))\n",
    "    summary_report(svm, cv_x_val, y_val, svm_predictions)\n",
    "    \n",
    "    # Logistic Regression \n",
    "    log_reg = SGDClassifier(loss='log', random_state=42)\n",
    "    log_reg.fit(cv_x_train, y_train) \n",
    "    \n",
    "    log_reg_predictions = log_reg.predict(cv_x_val)\n",
    "    log_reg_score = accuracy_score(y_val, log_reg_predictions)\n",
    "    log_reg_acc.append(log_reg_score)\n",
    "    print(\"logistc regression accuracy with {} observations: {:.4f}\".format(i, log_reg_score))\n",
    "    summary_report(log_reg, cv_x_val, y_val, log_reg_predictions)"
   ]
  },
  {
   "cell_type": "markdown",
   "metadata": {},
   "source": [
    "Let's see how the graph of num_obs vs acc looks like. It is important to remember that we are sampling a certain number of observations, so for sure we will have some noise, and it will vary a little bit each time we sample."
   ]
  },
  {
   "cell_type": "code",
   "execution_count": 24,
   "metadata": {},
   "outputs": [
    {
     "name": "stderr",
     "output_type": "stream",
     "text": [
      "/Users/bryanmonca/Workspace/cmsi-634-env/lib/python3.7/site-packages/ipykernel_launcher.py:5: MatplotlibDeprecationWarning: Adding an axes using the same arguments as a previous axes currently reuses the earlier instance.  In a future version, a new instance will always be created and returned.  Meanwhile, this warning can be suppressed, and the future behavior ensured, by passing a unique label to each axes instance.\n",
      "  \"\"\"\n"
     ]
    },
    {
     "data": {
      "image/png": "[encoded data removed]",
      "text/plain": [
       "<Figure size 432x288 with 1 Axes>"
      ]
     },
     "metadata": {
      "needs_background": "light"
     },
     "output_type": "display_data"
    }
   ],
   "source": [
    "fig = plt.figure()\n",
    "ax = fig.add_subplot(1, 1, 1)\n",
    "#fig.suptitle('Iris Dataset Reconstruction Loss')\n",
    "\n",
    "ax = fig.add_subplot(1, 1, 1)\n",
    "ax.plot(num_obs, svm_acc, marker='o', color='b', label='svm')\n",
    "ax.plot(num_obs, log_reg_acc, marker='o', color='r', label='log_reg')\n",
    "ax.legend(loc='best')\n",
    "ax.set_ylabel('Accuracy')\n",
    "ax.set_xlabel('Number of Observations')\n",
    "plt.show()"
   ]
  },
  {
   "cell_type": "markdown",
   "metadata": {},
   "source": [
    "We can also see that the more observations we have the better our accuracy is. Additionally, the logistic regression has a little bit better performance than the svm on average. \n",
    "\n",
    "Limiting the number of features to 10,000 helped us reduce the time of computation. Nevertheless, 40,000 takes a while and the running time might increase as we increase features in the next steps. Because of more data can take all our memory, we will continue experimenting with 20,000 observations only."
   ]
  },
  {
   "cell_type": "code",
   "execution_count": 33,
   "metadata": {},
   "outputs": [],
   "source": [
    "x_train, x_val, y_train, y_val = data_split_80_20(imdb_data, 20000)"
   ]
  },
  {
   "cell_type": "markdown",
   "metadata": {},
   "source": [
    "Now, let's experiment with different n-grams using the same Bag-of-words method (CountVectorizer). We will consider from unigram up to trigram. When going to the next n-gram we will consider all previous n-grams and the current one."
   ]
  },
  {
   "cell_type": "code",
   "execution_count": 34,
   "metadata": {
    "scrolled": false
   },
   "outputs": [
    {
     "name": "stdout",
     "output_type": "stream",
     "text": [
      "svm accuracy with 1-gram: 0.8628\n",
      "Confusion Matrix:\n",
      "[[1561  368]\n",
      " [ 181 1890]]\n"
     ]
    },
    {
     "data": {
      "image/png": "[encoded data removed]",
      "text/plain": [
       "<Figure size 432x288 with 2 Axes>"
      ]
     },
     "metadata": {
      "needs_background": "light"
     },
     "output_type": "display_data"
    },
    {
     "name": "stdout",
     "output_type": "stream",
     "text": [
      "\n",
      "Classification Report:\n",
      "              precision    recall  f1-score   support\n",
      "\n",
      "    negative       0.90      0.81      0.85      1929\n",
      "    positive       0.84      0.91      0.87      2071\n",
      "\n",
      "    accuracy                           0.86      4000\n",
      "   macro avg       0.87      0.86      0.86      4000\n",
      "weighted avg       0.87      0.86      0.86      4000\n",
      "\n",
      "logistc regression accuracy with 1-gram: 0.8688\n",
      "Confusion Matrix:\n",
      "[[1653  276]\n",
      " [ 249 1822]]\n"
     ]
    },
    {
     "data": {
      "image/png": "[encoded data removed]",
      "text/plain": [
       "<Figure size 432x288 with 2 Axes>"
      ]
     },
     "metadata": {
      "needs_background": "light"
     },
     "output_type": "display_data"
    },
    {
     "name": "stdout",
     "output_type": "stream",
     "text": [
      "\n",
      "Classification Report:\n",
      "              precision    recall  f1-score   support\n",
      "\n",
      "    negative       0.87      0.86      0.86      1929\n",
      "    positive       0.87      0.88      0.87      2071\n",
      "\n",
      "    accuracy                           0.87      4000\n",
      "   macro avg       0.87      0.87      0.87      4000\n",
      "weighted avg       0.87      0.87      0.87      4000\n",
      "\n",
      "svm accuracy with 2-gram: 0.8738\n",
      "Confusion Matrix:\n",
      "[[1743  186]\n",
      " [ 319 1752]]\n"
     ]
    },
    {
     "data": {
      "image/png": "[encoded data removed]",
      "text/plain": [
       "<Figure size 432x288 with 2 Axes>"
      ]
     },
     "metadata": {
      "needs_background": "light"
     },
     "output_type": "display_data"
    },
    {
     "name": "stdout",
     "output_type": "stream",
     "text": [
      "\n",
      "Classification Report:\n",
      "              precision    recall  f1-score   support\n",
      "\n",
      "    negative       0.85      0.90      0.87      1929\n",
      "    positive       0.90      0.85      0.87      2071\n",
      "\n",
      "    accuracy                           0.87      4000\n",
      "   macro avg       0.87      0.87      0.87      4000\n",
      "weighted avg       0.88      0.87      0.87      4000\n",
      "\n",
      "logistc regression accuracy with 2-gram: 0.8785\n",
      "Confusion Matrix:\n",
      "[[1708  221]\n",
      " [ 265 1806]]\n"
     ]
    },
    {
     "data": {
      "image/png": "[encoded data removed]",
      "text/plain": [
       "<Figure size 432x288 with 2 Axes>"
      ]
     },
     "metadata": {
      "needs_background": "light"
     },
     "output_type": "display_data"
    },
    {
     "name": "stdout",
     "output_type": "stream",
     "text": [
      "\n",
      "Classification Report:\n",
      "              precision    recall  f1-score   support\n",
      "\n",
      "    negative       0.87      0.89      0.88      1929\n",
      "    positive       0.89      0.87      0.88      2071\n",
      "\n",
      "    accuracy                           0.88      4000\n",
      "   macro avg       0.88      0.88      0.88      4000\n",
      "weighted avg       0.88      0.88      0.88      4000\n",
      "\n",
      "svm accuracy with 3-gram: 0.8725\n",
      "Confusion Matrix:\n",
      "[[1694  235]\n",
      " [ 275 1796]]\n"
     ]
    },
    {
     "data": {
      "image/png": "[encoded data removed]",
      "text/plain": [
       "<Figure size 432x288 with 2 Axes>"
      ]
     },
     "metadata": {
      "needs_background": "light"
     },
     "output_type": "display_data"
    },
    {
     "name": "stdout",
     "output_type": "stream",
     "text": [
      "\n",
      "Classification Report:\n",
      "              precision    recall  f1-score   support\n",
      "\n",
      "    negative       0.86      0.88      0.87      1929\n",
      "    positive       0.88      0.87      0.88      2071\n",
      "\n",
      "    accuracy                           0.87      4000\n",
      "   macro avg       0.87      0.87      0.87      4000\n",
      "weighted avg       0.87      0.87      0.87      4000\n",
      "\n",
      "logistc regression accuracy with 3-gram: 0.8768\n",
      "Confusion Matrix:\n",
      "[[1706  223]\n",
      " [ 270 1801]]\n"
     ]
    },
    {
     "data": {
      "image/png": "[encoded data removed]",
      "text/plain": [
       "<Figure size 432x288 with 2 Axes>"
      ]
     },
     "metadata": {
      "needs_background": "light"
     },
     "output_type": "display_data"
    },
    {
     "name": "stdout",
     "output_type": "stream",
     "text": [
      "\n",
      "Classification Report:\n",
      "              precision    recall  f1-score   support\n",
      "\n",
      "    negative       0.86      0.88      0.87      1929\n",
      "    positive       0.89      0.87      0.88      2071\n",
      "\n",
      "    accuracy                           0.88      4000\n",
      "   macro avg       0.88      0.88      0.88      4000\n",
      "weighted avg       0.88      0.88      0.88      4000\n",
      "\n"
     ]
    }
   ],
   "source": [
    "n_grams = [1, 2, 3]\n",
    "svm_acc = []\n",
    "log_reg_acc = []\n",
    "\n",
    "for i in n_grams:\n",
    "    cv = CountVectorizer(max_features=10000, ngram_range=(1, i))\n",
    "    cv_x_train = cv.fit_transform(x_train)\n",
    "    cv_x_train = cv_x_train.toarray()\n",
    "    cv_x_val = cv.transform(x_val)\n",
    "    cv_x_val = cv_x_val.toarray()\n",
    "    \n",
    "    # Training Classifier (SVM)\n",
    "    svm = SGDClassifier(loss='hinge', random_state=42)\n",
    "    svm.fit(cv_x_train, y_train)\n",
    "    \n",
    "    svm_predictions = svm.predict(cv_x_val)\n",
    "    svm_score = accuracy_score(y_val, svm_predictions)\n",
    "    svm_acc.append(svm_score)\n",
    "    print(\"svm accuracy with {}-gram: {:.4f}\".format(i, svm_score))\n",
    "    summary_report(svm, cv_x_val, y_val, svm_predictions)\n",
    "    \n",
    "    # Logistic Regression \n",
    "    log_reg = SGDClassifier(loss='log', random_state=42)\n",
    "    log_reg.fit(cv_x_train, y_train) \n",
    "    \n",
    "    log_reg_predictions = log_reg.predict(cv_x_val)\n",
    "    log_reg_score = accuracy_score(y_val, log_reg_predictions)\n",
    "    log_reg_acc.append(log_reg_score)\n",
    "    print(\"logistc regression accuracy with {}-gram: {:.4f}\".format(i, log_reg_score))\n",
    "    summary_report(log_reg, cv_x_val, y_val, log_reg_predictions)"
   ]
  },
  {
   "cell_type": "code",
   "execution_count": 35,
   "metadata": {},
   "outputs": [
    {
     "name": "stderr",
     "output_type": "stream",
     "text": [
      "/Users/bryanmonca/Workspace/cmsi-634-env/lib/python3.7/site-packages/ipykernel_launcher.py:4: MatplotlibDeprecationWarning: Adding an axes using the same arguments as a previous axes currently reuses the earlier instance.  In a future version, a new instance will always be created and returned.  Meanwhile, this warning can be suppressed, and the future behavior ensured, by passing a unique label to each axes instance.\n",
      "  after removing the cwd from sys.path.\n"
     ]
    },
    {
     "data": {
      "image/png": "[encoded data removed]",
      "text/plain": [
       "<Figure size 432x288 with 1 Axes>"
      ]
     },
     "metadata": {
      "needs_background": "light"
     },
     "output_type": "display_data"
    }
   ],
   "source": [
    "fig = plt.figure()\n",
    "ax = fig.add_subplot(1, 1, 1)\n",
    "\n",
    "ax = fig.add_subplot(1, 1, 1)\n",
    "ax.plot(n_grams, svm_acc, marker='o', color='b', label='svm')\n",
    "ax.plot(n_grams, log_reg_acc, marker='o', color='r', label='log_reg')\n",
    "ax.legend(loc='best')\n",
    "ax.set_ylabel('Accuracy')\n",
    "ax.set_xlabel('n_grams')\n",
    "plt.show()"
   ]
  },
  {
   "cell_type": "markdown",
   "metadata": {},
   "source": [
    "We can see that the best accuracy for both models is when including bigrams. The accuracy of SVM increases to 0.8738 and the accuracy of Logistic Regression to 0.8785."
   ]
  },
  {
   "cell_type": "markdown",
   "metadata": {},
   "source": [
    "Another thing we can do to try to increase accuracy is to delete all stop words. We will use the unigram-bigram with our models and delete stop words:"
   ]
  },
  {
   "cell_type": "code",
   "execution_count": 42,
   "metadata": {},
   "outputs": [
    {
     "name": "stdout",
     "output_type": "stream",
     "text": [
      "svm accuracy with 2-gram and no stop_words: 0.8550\n",
      "Confusion Matrix:\n",
      "[[1668  261]\n",
      " [ 319 1752]]\n"
     ]
    },
    {
     "data": {
      "image/png": "[encoded data removed]",
      "text/plain": [
       "<Figure size 432x288 with 2 Axes>"
      ]
     },
     "metadata": {
      "needs_background": "light"
     },
     "output_type": "display_data"
    },
    {
     "name": "stdout",
     "output_type": "stream",
     "text": [
      "\n",
      "Classification Report:\n",
      "              precision    recall  f1-score   support\n",
      "\n",
      "    negative       0.84      0.86      0.85      1929\n",
      "    positive       0.87      0.85      0.86      2071\n",
      "\n",
      "    accuracy                           0.85      4000\n",
      "   macro avg       0.85      0.86      0.85      4000\n",
      "weighted avg       0.86      0.85      0.86      4000\n",
      "\n",
      "logistc regression accuracy with 2-gram and no stop_words: 0.8668\n",
      "Confusion Matrix:\n",
      "[[1648  281]\n",
      " [ 252 1819]]\n"
     ]
    },
    {
     "data": {
      "image/png": "[encoded data removed]",
      "text/plain": [
       "<Figure size 432x288 with 2 Axes>"
      ]
     },
     "metadata": {
      "needs_background": "light"
     },
     "output_type": "display_data"
    },
    {
     "name": "stdout",
     "output_type": "stream",
     "text": [
      "\n",
      "Classification Report:\n",
      "              precision    recall  f1-score   support\n",
      "\n",
      "    negative       0.87      0.85      0.86      1929\n",
      "    positive       0.87      0.88      0.87      2071\n",
      "\n",
      "    accuracy                           0.87      4000\n",
      "   macro avg       0.87      0.87      0.87      4000\n",
      "weighted avg       0.87      0.87      0.87      4000\n",
      "\n"
     ]
    }
   ],
   "source": [
    "cv = CountVectorizer(max_features=10000, ngram_range=(1, 2), stop_words='english')\n",
    "cv_x_train = cv.fit_transform(x_train)\n",
    "cv_x_train = cv_x_train.toarray()\n",
    "cv_x_val = cv.transform(x_val)\n",
    "cv_x_val = cv_x_val.toarray()\n",
    "\n",
    "# Training Classifier (SVM)\n",
    "svm = SGDClassifier(loss='hinge', random_state=42)\n",
    "svm.fit(cv_x_train, y_train)\n",
    "    \n",
    "svm_predictions = svm.predict(cv_x_val)\n",
    "svm_score = accuracy_score(y_val, svm_predictions)\n",
    "svm_acc.append(svm_score)\n",
    "print(\"svm accuracy with 2-gram and no stop_words: {:.4f}\".format(svm_score))\n",
    "summary_report(svm, cv_x_val, y_val, svm_predictions)\n",
    "\n",
    "# Logistic Regression \n",
    "log_reg = SGDClassifier(loss='log', random_state=42)\n",
    "log_reg.fit(cv_x_train, y_train) \n",
    "\n",
    "log_reg_predictions = log_reg.predict(cv_x_val)\n",
    "log_reg_score = accuracy_score(y_val, log_reg_predictions)\n",
    "log_reg_acc.append(log_reg_score)\n",
    "print(\"logistc regression accuracy with 2-gram and no stop_words: {:.4f}\".format(log_reg_score))\n",
    "summary_report(log_reg, cv_x_val, y_val, log_reg_predictions)"
   ]
  },
  {
   "cell_type": "markdown",
   "metadata": {},
   "source": [
    "With stop words deleted our results do not improve, in fact, it decreases from 0.8738 to 0.8550 for SVM, and from 0.8785 to 0.8668 for Logistic Regression. "
   ]
  },
  {
   "cell_type": "markdown",
   "metadata": {},
   "source": [
    "Often, we can achieve slightly better results if instead of counts of words we use something called term frequency times inverse document frequency (or tf-idf). The intuition behind TF-IDF addresses the problem of using just the frequency of terms inside a document to predict sentiment. Although some terms may have a high frequency inside documents they may not be so relevant for describing a given document in which they appear. We will try tf-idf with our best models so far."
   ]
  },
  {
   "cell_type": "code",
   "execution_count": 53,
   "metadata": {},
   "outputs": [
    {
     "name": "stdout",
     "output_type": "stream",
     "text": [
      "svm accuracy with 2-gram and tfidf: 0.8972\n",
      "Confusion Matrix:\n",
      "[[1717  212]\n",
      " [ 199 1872]]\n"
     ]
    },
    {
     "data": {
      "image/png": "[encoded data removed]",
      "text/plain": [
       "<Figure size 432x288 with 2 Axes>"
      ]
     },
     "metadata": {
      "needs_background": "light"
     },
     "output_type": "display_data"
    },
    {
     "name": "stdout",
     "output_type": "stream",
     "text": [
      "\n",
      "Classification Report:\n",
      "              precision    recall  f1-score   support\n",
      "\n",
      "    negative       0.90      0.89      0.89      1929\n",
      "    positive       0.90      0.90      0.90      2071\n",
      "\n",
      "    accuracy                           0.90      4000\n",
      "   macro avg       0.90      0.90      0.90      4000\n",
      "weighted avg       0.90      0.90      0.90      4000\n",
      "\n",
      "logistc regression accuracy with 2-gram and tfidf: 0.8958\n",
      "Confusion Matrix:\n",
      "[[1675  254]\n",
      " [ 163 1908]]\n"
     ]
    },
    {
     "data": {
      "image/png": "[encoded data removed]",
      "text/plain": [
       "<Figure size 432x288 with 2 Axes>"
      ]
     },
     "metadata": {
      "needs_background": "light"
     },
     "output_type": "display_data"
    },
    {
     "name": "stdout",
     "output_type": "stream",
     "text": [
      "\n",
      "Classification Report:\n",
      "              precision    recall  f1-score   support\n",
      "\n",
      "    negative       0.91      0.87      0.89      1929\n",
      "    positive       0.88      0.92      0.90      2071\n",
      "\n",
      "    accuracy                           0.90      4000\n",
      "   macro avg       0.90      0.89      0.90      4000\n",
      "weighted avg       0.90      0.90      0.90      4000\n",
      "\n"
     ]
    }
   ],
   "source": [
    "cv = CountVectorizer(max_features=10000, ngram_range=(1, 2))\n",
    "cv_x_train = cv.fit_transform(x_train)\n",
    "cv_x_train = cv_x_train.toarray()\n",
    "cv_x_val = cv.transform(x_val)\n",
    "cv_x_val = cv_x_val.toarray()\n",
    "\n",
    "#TF-IDF\n",
    "tfidf_transformer = TfidfTransformer()\n",
    "tfidf_x_train = tfidf_transformer.fit_transform(cv_x_train)\n",
    "tfidf_x_val = tfidf_transformer.transform(cv_x_val)\n",
    "\n",
    "# Training Classifier (SVM)\n",
    "svm = SGDClassifier(loss='hinge', random_state=42)\n",
    "svm.fit(tfidf_x_train, y_train)\n",
    "    \n",
    "svm_predictions = svm.predict(tfidf_x_val)\n",
    "svm_score = accuracy_score(y_val, svm_predictions)\n",
    "svm_acc.append(svm_score)\n",
    "print(\"svm accuracy with 2-gram and tfidf: {:.4f}\".format(svm_score))\n",
    "summary_report(svm, tfidf_x_val, y_val, svm_predictions)\n",
    "\n",
    "# Logistic Regression \n",
    "log_reg = SGDClassifier(loss='log', random_state=42)\n",
    "log_reg.fit(tfidf_x_train, y_train) \n",
    "\n",
    "log_reg_predictions = log_reg.predict(tfidf_x_val)\n",
    "log_reg_score = accuracy_score(y_val, log_reg_predictions)\n",
    "log_reg_acc.append(log_reg_score)\n",
    "print(\"logistc regression accuracy with 2-gram and tfidf: {:.4f}\".format(log_reg_score))\n",
    "summary_report(log_reg, tfidf_x_val, y_val, log_reg_predictions)"
   ]
  },
  {
   "cell_type": "markdown",
   "metadata": {},
   "source": [
    "As expected!! For both models, the accuracy increases when using TFIDF to approximately 0.90!"
   ]
  },
  {
   "cell_type": "markdown",
   "metadata": {},
   "source": [
    "## Graphs of results"
   ]
  },
  {
   "cell_type": "markdown",
   "metadata": {},
   "source": [
    "Now we will graph the accuracy of all the models we have tried so far using 20,000 observations:"
   ]
  },
  {
   "cell_type": "code",
   "execution_count": 58,
   "metadata": {},
   "outputs": [
    {
     "name": "stderr",
     "output_type": "stream",
     "text": [
      "/Users/bryanmonca/Workspace/cmsi-634-env/lib/python3.7/site-packages/ipykernel_launcher.py:4: MatplotlibDeprecationWarning: Adding an axes using the same arguments as a previous axes currently reuses the earlier instance.  In a future version, a new instance will always be created and returned.  Meanwhile, this warning can be suppressed, and the future behavior ensured, by passing a unique label to each axes instance.\n",
      "  after removing the cwd from sys.path.\n"
     ]
    },
    {
     "data": {
      "image/png": "[encoded data removed]",
      "text/plain": [
       "<Figure size 432x288 with 1 Axes>"
      ]
     },
     "metadata": {
      "needs_background": "light"
     },
     "output_type": "display_data"
    }
   ],
   "source": [
    "fig = plt.figure()\n",
    "ax = fig.add_subplot(1, 1, 1)\n",
    "\n",
    "ax = fig.add_subplot(1, 1, 1)\n",
    "ax.plot(range(1, len(svm_acc)+1), svm_acc, marker='o', color='b', label='svm')\n",
    "ax.plot(range(1, len(log_reg_acc)+1), log_reg_acc, marker='o', color='r', label='log_reg')\n",
    "ax.legend(loc='best')\n",
    "ax.set_ylabel('Accuracy')\n",
    "ax.set_xlabel('models #')\n",
    "plt.show()"
   ]
  },
  {
   "cell_type": "markdown",
   "metadata": {},
   "source": [
    "To sum up, we used the SGDClassifier with two different losses: 'hinge' that gives us the Support Vector Machine (SVM) algorithm and 'log' that gives us Logistic Regression.\n",
    "\n",
    "Due to memory consumption, we used only 20,000 observations and we also used the maximum 10,000 features.\n",
    "\n",
    "Our features varied in each of the models we did for logistic regression and svm:\n",
    "\n",
    "    1. unigrams only\n",
    "    2. unigrams and bigrams\n",
    "    3. unigrams, bigrams and trigrams\n",
    " \n",
    "We then selected our best models that were unigrams and bigrams and proceed to:\n",
    "    \n",
    "    4. No stop-words\n",
    "     \n",
    "Stop-words do not increase our accuracy value, so did not change our model. Then, we proceded to add:\n",
    "\n",
    "    5. unigrams, bigrams, tf-idf\n",
    "    \n",
    "TF-IDF gave us the highest accuracy for both Logistic Regression and SVM. The accuracies were approximately 90%. On average our Logistic Regression was better than SVM.\n",
    "       "
   ]
  },
  {
   "cell_type": "markdown",
   "metadata": {},
   "source": [
    "## Future Work"
   ]
  },
  {
   "cell_type": "markdown",
   "metadata": {},
   "source": [
    "To increase our performance, we could try using Neural Networks (NN) or Recurrent Neural Networks (RNN). \n",
    "\n",
    "Also, we could try increasing the dataset size using a more powerful computer. Maybe we could use Google Colab's [free GPU](https://colab.research.google.com/notebooks/welcome.ipynb)."
   ]
  }
 ],
 "metadata": {
  "kernelspec": {
   "display_name": "Python 3",
   "language": "python",
   "name": "python3"
  },
  "language_info": {
   "codemirror_mode": {
    "name": "ipython",
    "version": 3
   },
   "file_extension": ".py",
   "mimetype": "text/x-python",
   "name": "python",
   "nbconvert_exporter": "python",
   "pygments_lexer": "ipython3",
   "version": "3.7.9"
  }
 },
 "nbformat": 4,
 "nbformat_minor": 4
}
